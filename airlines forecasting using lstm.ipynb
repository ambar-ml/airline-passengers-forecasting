{
 "cells": [
  {
   "cell_type": "code",
   "execution_count": 1,
   "metadata": {},
   "outputs": [],
   "source": [
    "import pandas as pd\n",
    "import numpy as np\n",
    "import matplotlib.pyplot as plt\n",
    "%matplotlib inline\n",
    "from sklearn.preprocessing import MinMaxScaler\n",
    "from sklearn.metrics import mean_squared_error\n",
    "\n",
    "\n"
   ]
  },
  {
   "cell_type": "code",
   "execution_count": 2,
   "metadata": {},
   "outputs": [],
   "source": [
    "from tensorflow.keras.models import Sequential\n",
    "from tensorflow.keras.layers import Dense, Dropout, LSTM\n",
    "from kerastuner import RandomSearch\n",
    "from kerastuner.engine.hyperparameters import HyperParameters"
   ]
  },
  {
   "cell_type": "markdown",
   "metadata": {},
   "source": [
    "# Loading the data"
   ]
  },
  {
   "cell_type": "code",
   "execution_count": 3,
   "metadata": {},
   "outputs": [],
   "source": [
    "data=pd.read_csv('D:/International Airline Passengers.csv')"
   ]
  },
  {
   "cell_type": "code",
   "execution_count": 4,
   "metadata": {},
   "outputs": [
    {
     "data": {
      "text/html": [
       "<div>\n",
       "<style scoped>\n",
       "    .dataframe tbody tr th:only-of-type {\n",
       "        vertical-align: middle;\n",
       "    }\n",
       "\n",
       "    .dataframe tbody tr th {\n",
       "        vertical-align: top;\n",
       "    }\n",
       "\n",
       "    .dataframe thead th {\n",
       "        text-align: right;\n",
       "    }\n",
       "</style>\n",
       "<table border=\"1\" class=\"dataframe\">\n",
       "  <thead>\n",
       "    <tr style=\"text-align: right;\">\n",
       "      <th></th>\n",
       "      <th>Month</th>\n",
       "      <th>No_passengers_thousands</th>\n",
       "    </tr>\n",
       "  </thead>\n",
       "  <tbody>\n",
       "    <tr>\n",
       "      <th>0</th>\n",
       "      <td>1949-01</td>\n",
       "      <td>112</td>\n",
       "    </tr>\n",
       "    <tr>\n",
       "      <th>1</th>\n",
       "      <td>1949-02</td>\n",
       "      <td>118</td>\n",
       "    </tr>\n",
       "    <tr>\n",
       "      <th>2</th>\n",
       "      <td>1949-03</td>\n",
       "      <td>132</td>\n",
       "    </tr>\n",
       "    <tr>\n",
       "      <th>3</th>\n",
       "      <td>1949-04</td>\n",
       "      <td>129</td>\n",
       "    </tr>\n",
       "    <tr>\n",
       "      <th>4</th>\n",
       "      <td>1949-05</td>\n",
       "      <td>121</td>\n",
       "    </tr>\n",
       "  </tbody>\n",
       "</table>\n",
       "</div>"
      ],
      "text/plain": [
       "     Month  No_passengers_thousands\n",
       "0  1949-01                      112\n",
       "1  1949-02                      118\n",
       "2  1949-03                      132\n",
       "3  1949-04                      129\n",
       "4  1949-05                      121"
      ]
     },
     "execution_count": 4,
     "metadata": {},
     "output_type": "execute_result"
    }
   ],
   "source": [
    "data.head()"
   ]
  },
  {
   "cell_type": "markdown",
   "metadata": {},
   "source": [
    "# Data Preperation"
   ]
  },
  {
   "cell_type": "code",
   "execution_count": 5,
   "metadata": {},
   "outputs": [
    {
     "data": {
      "text/plain": [
       "Month                      object\n",
       "No_passengers_thousands     int64\n",
       "dtype: object"
      ]
     },
     "execution_count": 5,
     "metadata": {},
     "output_type": "execute_result"
    }
   ],
   "source": [
    "# Checking the data types\n",
    "data.dtypes"
   ]
  },
  {
   "cell_type": "code",
   "execution_count": 6,
   "metadata": {},
   "outputs": [],
   "source": [
    "# Deriving a new column with datetime format\n",
    "data['year_month']=pd.to_datetime(data.Month)"
   ]
  },
  {
   "cell_type": "code",
   "execution_count": 7,
   "metadata": {},
   "outputs": [
    {
     "data": {
      "text/html": [
       "<div>\n",
       "<style scoped>\n",
       "    .dataframe tbody tr th:only-of-type {\n",
       "        vertical-align: middle;\n",
       "    }\n",
       "\n",
       "    .dataframe tbody tr th {\n",
       "        vertical-align: top;\n",
       "    }\n",
       "\n",
       "    .dataframe thead th {\n",
       "        text-align: right;\n",
       "    }\n",
       "</style>\n",
       "<table border=\"1\" class=\"dataframe\">\n",
       "  <thead>\n",
       "    <tr style=\"text-align: right;\">\n",
       "      <th></th>\n",
       "      <th>Month</th>\n",
       "      <th>No_passengers_thousands</th>\n",
       "      <th>year_month</th>\n",
       "    </tr>\n",
       "  </thead>\n",
       "  <tbody>\n",
       "    <tr>\n",
       "      <th>0</th>\n",
       "      <td>1949-01</td>\n",
       "      <td>112</td>\n",
       "      <td>1949-01-01</td>\n",
       "    </tr>\n",
       "    <tr>\n",
       "      <th>1</th>\n",
       "      <td>1949-02</td>\n",
       "      <td>118</td>\n",
       "      <td>1949-02-01</td>\n",
       "    </tr>\n",
       "    <tr>\n",
       "      <th>2</th>\n",
       "      <td>1949-03</td>\n",
       "      <td>132</td>\n",
       "      <td>1949-03-01</td>\n",
       "    </tr>\n",
       "    <tr>\n",
       "      <th>3</th>\n",
       "      <td>1949-04</td>\n",
       "      <td>129</td>\n",
       "      <td>1949-04-01</td>\n",
       "    </tr>\n",
       "    <tr>\n",
       "      <th>4</th>\n",
       "      <td>1949-05</td>\n",
       "      <td>121</td>\n",
       "      <td>1949-05-01</td>\n",
       "    </tr>\n",
       "  </tbody>\n",
       "</table>\n",
       "</div>"
      ],
      "text/plain": [
       "     Month  No_passengers_thousands year_month\n",
       "0  1949-01                      112 1949-01-01\n",
       "1  1949-02                      118 1949-02-01\n",
       "2  1949-03                      132 1949-03-01\n",
       "3  1949-04                      129 1949-04-01\n",
       "4  1949-05                      121 1949-05-01"
      ]
     },
     "execution_count": 7,
     "metadata": {},
     "output_type": "execute_result"
    }
   ],
   "source": [
    "data.head()"
   ]
  },
  {
   "cell_type": "code",
   "execution_count": 8,
   "metadata": {},
   "outputs": [],
   "source": [
    "# Dropping the Month Col\n",
    "data.drop(['Month'],axis=1,inplace=True)"
   ]
  },
  {
   "cell_type": "code",
   "execution_count": 9,
   "metadata": {},
   "outputs": [],
   "source": [
    "# Rearranging the columns\n",
    "data=data[['year_month','No_passengers_thousands']]"
   ]
  },
  {
   "cell_type": "code",
   "execution_count": 10,
   "metadata": {},
   "outputs": [
    {
     "data": {
      "text/html": [
       "<div>\n",
       "<style scoped>\n",
       "    .dataframe tbody tr th:only-of-type {\n",
       "        vertical-align: middle;\n",
       "    }\n",
       "\n",
       "    .dataframe tbody tr th {\n",
       "        vertical-align: top;\n",
       "    }\n",
       "\n",
       "    .dataframe thead th {\n",
       "        text-align: right;\n",
       "    }\n",
       "</style>\n",
       "<table border=\"1\" class=\"dataframe\">\n",
       "  <thead>\n",
       "    <tr style=\"text-align: right;\">\n",
       "      <th></th>\n",
       "      <th>year_month</th>\n",
       "      <th>No_passengers_thousands</th>\n",
       "    </tr>\n",
       "  </thead>\n",
       "  <tbody>\n",
       "    <tr>\n",
       "      <th>0</th>\n",
       "      <td>1949-01-01</td>\n",
       "      <td>112</td>\n",
       "    </tr>\n",
       "    <tr>\n",
       "      <th>1</th>\n",
       "      <td>1949-02-01</td>\n",
       "      <td>118</td>\n",
       "    </tr>\n",
       "    <tr>\n",
       "      <th>2</th>\n",
       "      <td>1949-03-01</td>\n",
       "      <td>132</td>\n",
       "    </tr>\n",
       "    <tr>\n",
       "      <th>3</th>\n",
       "      <td>1949-04-01</td>\n",
       "      <td>129</td>\n",
       "    </tr>\n",
       "    <tr>\n",
       "      <th>4</th>\n",
       "      <td>1949-05-01</td>\n",
       "      <td>121</td>\n",
       "    </tr>\n",
       "  </tbody>\n",
       "</table>\n",
       "</div>"
      ],
      "text/plain": [
       "  year_month  No_passengers_thousands\n",
       "0 1949-01-01                      112\n",
       "1 1949-02-01                      118\n",
       "2 1949-03-01                      132\n",
       "3 1949-04-01                      129\n",
       "4 1949-05-01                      121"
      ]
     },
     "execution_count": 10,
     "metadata": {},
     "output_type": "execute_result"
    }
   ],
   "source": [
    "data.head()"
   ]
  },
  {
   "cell_type": "code",
   "execution_count": 11,
   "metadata": {},
   "outputs": [
    {
     "data": {
      "text/plain": [
       "year_month                 datetime64[ns]\n",
       "No_passengers_thousands             int64\n",
       "dtype: object"
      ]
     },
     "execution_count": 11,
     "metadata": {},
     "output_type": "execute_result"
    }
   ],
   "source": [
    "# Final datatypes\n",
    "data.dtypes\n"
   ]
  },
  {
   "cell_type": "code",
   "execution_count": 12,
   "metadata": {},
   "outputs": [
    {
     "data": {
      "text/plain": [
       "year_month                 0\n",
       "No_passengers_thousands    0\n",
       "dtype: int64"
      ]
     },
     "execution_count": 12,
     "metadata": {},
     "output_type": "execute_result"
    }
   ],
   "source": [
    "# Checking for missing values\n",
    "data.isnull().sum()"
   ]
  },
  {
   "cell_type": "code",
   "execution_count": 13,
   "metadata": {},
   "outputs": [
    {
     "data": {
      "text/html": [
       "<div>\n",
       "<style scoped>\n",
       "    .dataframe tbody tr th:only-of-type {\n",
       "        vertical-align: middle;\n",
       "    }\n",
       "\n",
       "    .dataframe tbody tr th {\n",
       "        vertical-align: top;\n",
       "    }\n",
       "\n",
       "    .dataframe thead th {\n",
       "        text-align: right;\n",
       "    }\n",
       "</style>\n",
       "<table border=\"1\" class=\"dataframe\">\n",
       "  <thead>\n",
       "    <tr style=\"text-align: right;\">\n",
       "      <th></th>\n",
       "      <th>year_month</th>\n",
       "      <th>No_passengers_thousands</th>\n",
       "    </tr>\n",
       "  </thead>\n",
       "  <tbody>\n",
       "    <tr>\n",
       "      <th>0</th>\n",
       "      <td>1949-01-01</td>\n",
       "      <td>112</td>\n",
       "    </tr>\n",
       "    <tr>\n",
       "      <th>1</th>\n",
       "      <td>1949-02-01</td>\n",
       "      <td>118</td>\n",
       "    </tr>\n",
       "    <tr>\n",
       "      <th>2</th>\n",
       "      <td>1949-03-01</td>\n",
       "      <td>132</td>\n",
       "    </tr>\n",
       "    <tr>\n",
       "      <th>3</th>\n",
       "      <td>1949-04-01</td>\n",
       "      <td>129</td>\n",
       "    </tr>\n",
       "    <tr>\n",
       "      <th>4</th>\n",
       "      <td>1949-05-01</td>\n",
       "      <td>121</td>\n",
       "    </tr>\n",
       "  </tbody>\n",
       "</table>\n",
       "</div>"
      ],
      "text/plain": [
       "  year_month  No_passengers_thousands\n",
       "0 1949-01-01                      112\n",
       "1 1949-02-01                      118\n",
       "2 1949-03-01                      132\n",
       "3 1949-04-01                      129\n",
       "4 1949-05-01                      121"
      ]
     },
     "execution_count": 13,
     "metadata": {},
     "output_type": "execute_result"
    }
   ],
   "source": [
    "# Ensuring data is sorted\n",
    "data.sort_values('year_month', inplace=True, ascending=True)\n",
    "data.head()"
   ]
  },
  {
   "cell_type": "code",
   "execution_count": 14,
   "metadata": {},
   "outputs": [
    {
     "data": {
      "text/html": [
       "<div>\n",
       "<style scoped>\n",
       "    .dataframe tbody tr th:only-of-type {\n",
       "        vertical-align: middle;\n",
       "    }\n",
       "\n",
       "    .dataframe tbody tr th {\n",
       "        vertical-align: top;\n",
       "    }\n",
       "\n",
       "    .dataframe thead th {\n",
       "        text-align: right;\n",
       "    }\n",
       "</style>\n",
       "<table border=\"1\" class=\"dataframe\">\n",
       "  <thead>\n",
       "    <tr style=\"text-align: right;\">\n",
       "      <th></th>\n",
       "      <th>No_passengers_thousands</th>\n",
       "    </tr>\n",
       "    <tr>\n",
       "      <th>year_month</th>\n",
       "      <th></th>\n",
       "    </tr>\n",
       "  </thead>\n",
       "  <tbody>\n",
       "    <tr>\n",
       "      <th>1949-01-01</th>\n",
       "      <td>112</td>\n",
       "    </tr>\n",
       "    <tr>\n",
       "      <th>1949-02-01</th>\n",
       "      <td>118</td>\n",
       "    </tr>\n",
       "    <tr>\n",
       "      <th>1949-03-01</th>\n",
       "      <td>132</td>\n",
       "    </tr>\n",
       "    <tr>\n",
       "      <th>1949-04-01</th>\n",
       "      <td>129</td>\n",
       "    </tr>\n",
       "    <tr>\n",
       "      <th>1949-05-01</th>\n",
       "      <td>121</td>\n",
       "    </tr>\n",
       "  </tbody>\n",
       "</table>\n",
       "</div>"
      ],
      "text/plain": [
       "            No_passengers_thousands\n",
       "year_month                         \n",
       "1949-01-01                      112\n",
       "1949-02-01                      118\n",
       "1949-03-01                      132\n",
       "1949-04-01                      129\n",
       "1949-05-01                      121"
      ]
     },
     "execution_count": 14,
     "metadata": {},
     "output_type": "execute_result"
    }
   ],
   "source": [
    "# making the year_month as index\n",
    "data.set_index('year_month',inplace=True)\n",
    "data.head()"
   ]
  },
  {
   "cell_type": "markdown",
   "metadata": {},
   "source": [
    "# Plotting time Series to see the trends"
   ]
  },
  {
   "cell_type": "code",
   "execution_count": 15,
   "metadata": {},
   "outputs": [
    {
     "data": {
      "image/png": "[encoded data removed]",
      "text/plain": [
       "<Figure size 1152x2160 with 3 Axes>"
      ]
     },
     "metadata": {
      "needs_background": "light"
     },
     "output_type": "display_data"
    }
   ],
   "source": [
    "fig, ax = plt.subplots(3, figsize=(16,30))\n",
    "\n",
    "# Monthly\n",
    "ax[0].plot(data['No_passengers_thousands'])\n",
    "ax[0].set_title('No of passengers over Months',fontweight=\"bold\", color='g')\n",
    "\n",
    "# Quarterly\n",
    "ax[1].plot(data['No_passengers_thousands'].resample('Q').mean())\n",
    "ax[1].set_title('No of passengers over Quarters',fontweight=\"bold\", color='g')\n",
    "\n",
    "# Yearly\n",
    "ax[2].plot(data['No_passengers_thousands'].resample('Y').mean())\n",
    "ax[2].set_title('No of passengers over Years',fontweight=\"bold\", color='g')\n",
    "\n",
    "plt.show()"
   ]
  },
  {
   "cell_type": "markdown",
   "metadata": {},
   "source": [
    "# Time Series modelling using lstm"
   ]
  },
  {
   "cell_type": "markdown",
   "metadata": {},
   "source": [
    "# Data preperation for modelling"
   ]
  },
  {
   "cell_type": "code",
   "execution_count": 16,
   "metadata": {},
   "outputs": [],
   "source": [
    "vals=data['No_passengers_thousands'].values"
   ]
  },
  {
   "cell_type": "code",
   "execution_count": 17,
   "metadata": {},
   "outputs": [
    {
     "data": {
      "text/plain": [
       "array([112, 118, 132, 129, 121, 135, 148, 148, 136, 119, 104, 118, 115,\n",
       "       126, 141, 135, 125, 149, 170, 170, 158, 133, 114, 140, 145, 150,\n",
       "       178, 163, 172, 178, 199, 199, 184, 162, 146, 166, 171, 180, 193,\n",
       "       181, 183, 218, 230, 242, 209, 191, 172, 194, 196, 196, 236, 235,\n",
       "       229, 243, 264, 272, 237, 211, 180, 201, 204, 188, 235, 227, 234,\n",
       "       264, 302, 293, 259, 229, 203, 229, 242, 233, 267, 269, 270, 315,\n",
       "       364, 347, 312, 274, 237, 278, 284, 277, 317, 313, 318, 374, 413,\n",
       "       405, 355, 306, 271, 306, 315, 301, 356, 348, 355, 422, 465, 467,\n",
       "       404, 347, 305, 336, 340, 318, 362, 348, 363, 435, 491, 505, 404,\n",
       "       359, 310, 337, 360, 342, 406, 396, 420, 472, 548, 559, 463, 407,\n",
       "       362, 405, 417, 391, 419, 461, 472, 535, 622, 606, 508, 461, 390,\n",
       "       432], dtype=int64)"
      ]
     },
     "execution_count": 17,
     "metadata": {},
     "output_type": "execute_result"
    }
   ],
   "source": [
    "vals"
   ]
  },
  {
   "cell_type": "code",
   "execution_count": 18,
   "metadata": {},
   "outputs": [],
   "source": [
    "vals=vals.reshape(-1,1)"
   ]
  },
  {
   "cell_type": "code",
   "execution_count": 19,
   "metadata": {},
   "outputs": [
    {
     "data": {
      "text/plain": [
       "array([[112],\n",
       "       [118],\n",
       "       [132],\n",
       "       [129],\n",
       "       [121],\n",
       "       [135],\n",
       "       [148],\n",
       "       [148],\n",
       "       [136],\n",
       "       [119],\n",
       "       [104],\n",
       "       [118],\n",
       "       [115],\n",
       "       [126],\n",
       "       [141],\n",
       "       [135],\n",
       "       [125],\n",
       "       [149],\n",
       "       [170],\n",
       "       [170],\n",
       "       [158],\n",
       "       [133],\n",
       "       [114],\n",
       "       [140],\n",
       "       [145],\n",
       "       [150],\n",
       "       [178],\n",
       "       [163],\n",
       "       [172],\n",
       "       [178],\n",
       "       [199],\n",
       "       [199],\n",
       "       [184],\n",
       "       [162],\n",
       "       [146],\n",
       "       [166],\n",
       "       [171],\n",
       "       [180],\n",
       "       [193],\n",
       "       [181],\n",
       "       [183],\n",
       "       [218],\n",
       "       [230],\n",
       "       [242],\n",
       "       [209],\n",
       "       [191],\n",
       "       [172],\n",
       "       [194],\n",
       "       [196],\n",
       "       [196],\n",
       "       [236],\n",
       "       [235],\n",
       "       [229],\n",
       "       [243],\n",
       "       [264],\n",
       "       [272],\n",
       "       [237],\n",
       "       [211],\n",
       "       [180],\n",
       "       [201],\n",
       "       [204],\n",
       "       [188],\n",
       "       [235],\n",
       "       [227],\n",
       "       [234],\n",
       "       [264],\n",
       "       [302],\n",
       "       [293],\n",
       "       [259],\n",
       "       [229],\n",
       "       [203],\n",
       "       [229],\n",
       "       [242],\n",
       "       [233],\n",
       "       [267],\n",
       "       [269],\n",
       "       [270],\n",
       "       [315],\n",
       "       [364],\n",
       "       [347],\n",
       "       [312],\n",
       "       [274],\n",
       "       [237],\n",
       "       [278],\n",
       "       [284],\n",
       "       [277],\n",
       "       [317],\n",
       "       [313],\n",
       "       [318],\n",
       "       [374],\n",
       "       [413],\n",
       "       [405],\n",
       "       [355],\n",
       "       [306],\n",
       "       [271],\n",
       "       [306],\n",
       "       [315],\n",
       "       [301],\n",
       "       [356],\n",
       "       [348],\n",
       "       [355],\n",
       "       [422],\n",
       "       [465],\n",
       "       [467],\n",
       "       [404],\n",
       "       [347],\n",
       "       [305],\n",
       "       [336],\n",
       "       [340],\n",
       "       [318],\n",
       "       [362],\n",
       "       [348],\n",
       "       [363],\n",
       "       [435],\n",
       "       [491],\n",
       "       [505],\n",
       "       [404],\n",
       "       [359],\n",
       "       [310],\n",
       "       [337],\n",
       "       [360],\n",
       "       [342],\n",
       "       [406],\n",
       "       [396],\n",
       "       [420],\n",
       "       [472],\n",
       "       [548],\n",
       "       [559],\n",
       "       [463],\n",
       "       [407],\n",
       "       [362],\n",
       "       [405],\n",
       "       [417],\n",
       "       [391],\n",
       "       [419],\n",
       "       [461],\n",
       "       [472],\n",
       "       [535],\n",
       "       [622],\n",
       "       [606],\n",
       "       [508],\n",
       "       [461],\n",
       "       [390],\n",
       "       [432]], dtype=int64)"
      ]
     },
     "execution_count": 19,
     "metadata": {},
     "output_type": "execute_result"
    }
   ],
   "source": [
    "vals"
   ]
  },
  {
   "cell_type": "code",
   "execution_count": 20,
   "metadata": {},
   "outputs": [
    {
     "data": {
      "text/plain": [
       "(144, 1)"
      ]
     },
     "execution_count": 20,
     "metadata": {},
     "output_type": "execute_result"
    }
   ],
   "source": [
    "vals.shape"
   ]
  },
  {
   "cell_type": "code",
   "execution_count": 21,
   "metadata": {},
   "outputs": [],
   "source": [
    "# Scale the data\n",
    "scaler = MinMaxScaler(feature_range=(0,1))\n",
    "vals = scaler.fit_transform(vals)"
   ]
  },
  {
   "cell_type": "code",
   "execution_count": 22,
   "metadata": {},
   "outputs": [
    {
     "data": {
      "text/plain": [
       "array([[0.01544402],\n",
       "       [0.02702703],\n",
       "       [0.05405405],\n",
       "       [0.04826255],\n",
       "       [0.03281853],\n",
       "       [0.05984556],\n",
       "       [0.08494208],\n",
       "       [0.08494208],\n",
       "       [0.06177606],\n",
       "       [0.02895753],\n",
       "       [0.        ],\n",
       "       [0.02702703],\n",
       "       [0.02123552],\n",
       "       [0.04247104],\n",
       "       [0.07142857],\n",
       "       [0.05984556],\n",
       "       [0.04054054],\n",
       "       [0.08687259],\n",
       "       [0.12741313],\n",
       "       [0.12741313],\n",
       "       [0.1042471 ],\n",
       "       [0.05598456],\n",
       "       [0.01930502],\n",
       "       [0.06949807],\n",
       "       [0.07915058],\n",
       "       [0.08880309],\n",
       "       [0.14285714],\n",
       "       [0.11389961],\n",
       "       [0.13127413],\n",
       "       [0.14285714],\n",
       "       [0.18339768],\n",
       "       [0.18339768],\n",
       "       [0.15444015],\n",
       "       [0.11196911],\n",
       "       [0.08108108],\n",
       "       [0.11969112],\n",
       "       [0.12934363],\n",
       "       [0.14671815],\n",
       "       [0.17181467],\n",
       "       [0.14864865],\n",
       "       [0.15250965],\n",
       "       [0.22007722],\n",
       "       [0.24324324],\n",
       "       [0.26640927],\n",
       "       [0.2027027 ],\n",
       "       [0.16795367],\n",
       "       [0.13127413],\n",
       "       [0.17374517],\n",
       "       [0.17760618],\n",
       "       [0.17760618],\n",
       "       [0.25482625],\n",
       "       [0.25289575],\n",
       "       [0.24131274],\n",
       "       [0.26833977],\n",
       "       [0.30888031],\n",
       "       [0.32432432],\n",
       "       [0.25675676],\n",
       "       [0.20656371],\n",
       "       [0.14671815],\n",
       "       [0.18725869],\n",
       "       [0.19305019],\n",
       "       [0.16216216],\n",
       "       [0.25289575],\n",
       "       [0.23745174],\n",
       "       [0.25096525],\n",
       "       [0.30888031],\n",
       "       [0.38223938],\n",
       "       [0.36486486],\n",
       "       [0.2992278 ],\n",
       "       [0.24131274],\n",
       "       [0.19111969],\n",
       "       [0.24131274],\n",
       "       [0.26640927],\n",
       "       [0.24903475],\n",
       "       [0.31467181],\n",
       "       [0.31853282],\n",
       "       [0.32046332],\n",
       "       [0.40733591],\n",
       "       [0.5019305 ],\n",
       "       [0.46911197],\n",
       "       [0.4015444 ],\n",
       "       [0.32818533],\n",
       "       [0.25675676],\n",
       "       [0.33590734],\n",
       "       [0.34749035],\n",
       "       [0.33397683],\n",
       "       [0.41119691],\n",
       "       [0.4034749 ],\n",
       "       [0.41312741],\n",
       "       [0.52123552],\n",
       "       [0.5965251 ],\n",
       "       [0.58108108],\n",
       "       [0.48455598],\n",
       "       [0.38996139],\n",
       "       [0.32239382],\n",
       "       [0.38996139],\n",
       "       [0.40733591],\n",
       "       [0.38030888],\n",
       "       [0.48648649],\n",
       "       [0.47104247],\n",
       "       [0.48455598],\n",
       "       [0.61389961],\n",
       "       [0.6969112 ],\n",
       "       [0.7007722 ],\n",
       "       [0.57915058],\n",
       "       [0.46911197],\n",
       "       [0.38803089],\n",
       "       [0.44787645],\n",
       "       [0.45559846],\n",
       "       [0.41312741],\n",
       "       [0.4980695 ],\n",
       "       [0.47104247],\n",
       "       [0.5       ],\n",
       "       [0.63899614],\n",
       "       [0.74710425],\n",
       "       [0.77413127],\n",
       "       [0.57915058],\n",
       "       [0.49227799],\n",
       "       [0.3976834 ],\n",
       "       [0.44980695],\n",
       "       [0.49420849],\n",
       "       [0.45945946],\n",
       "       [0.58301158],\n",
       "       [0.56370656],\n",
       "       [0.61003861],\n",
       "       [0.71042471],\n",
       "       [0.85714286],\n",
       "       [0.87837838],\n",
       "       [0.69305019],\n",
       "       [0.58494208],\n",
       "       [0.4980695 ],\n",
       "       [0.58108108],\n",
       "       [0.6042471 ],\n",
       "       [0.55405405],\n",
       "       [0.60810811],\n",
       "       [0.68918919],\n",
       "       [0.71042471],\n",
       "       [0.83204633],\n",
       "       [1.        ],\n",
       "       [0.96911197],\n",
       "       [0.77992278],\n",
       "       [0.68918919],\n",
       "       [0.55212355],\n",
       "       [0.63320463]])"
      ]
     },
     "execution_count": 22,
     "metadata": {},
     "output_type": "execute_result"
    }
   ],
   "source": [
    "vals"
   ]
  },
  {
   "cell_type": "code",
   "execution_count": 23,
   "metadata": {},
   "outputs": [],
   "source": [
    "# Split into training/test sets\n",
    "train_size = int(len(vals) * 0.8)\n",
    "train, test = vals[:train_size,], vals[train_size:,]"
   ]
  },
  {
   "cell_type": "code",
   "execution_count": 24,
   "metadata": {},
   "outputs": [
    {
     "data": {
      "text/plain": [
       "115"
      ]
     },
     "execution_count": 24,
     "metadata": {},
     "output_type": "execute_result"
    }
   ],
   "source": [
    "len(train)"
   ]
  },
  {
   "cell_type": "code",
   "execution_count": 25,
   "metadata": {},
   "outputs": [
    {
     "data": {
      "text/plain": [
       "29"
      ]
     },
     "execution_count": 25,
     "metadata": {},
     "output_type": "execute_result"
    }
   ],
   "source": [
    "len(test)"
   ]
  },
  {
   "cell_type": "code",
   "execution_count": 26,
   "metadata": {},
   "outputs": [],
   "source": [
    "# Prepare the data in a format required for LSTM (samples, timesteps, features)\n",
    "\n",
    "def Create_Dataset(df, lookback=1):\n",
    "    X, Y = [], []\n",
    "    for i in range(len(df) - lookback - 1):\n",
    "        X.append(df[i:(i+lookback), 0])\n",
    "        Y.append(df[i + lookback,0])\n",
    "    return np.array(X), np.array(Y)"
   ]
  },
  {
   "cell_type": "code",
   "execution_count": 27,
   "metadata": {},
   "outputs": [],
   "source": [
    "lookback = 3\n",
    "X_train, Y_train = Create_Dataset(train, lookback)\n",
    "X_test, Y_test   = Create_Dataset(test, lookback)"
   ]
  },
  {
   "cell_type": "code",
   "execution_count": 28,
   "metadata": {},
   "outputs": [
    {
     "data": {
      "text/plain": [
       "(111, 3)"
      ]
     },
     "execution_count": 28,
     "metadata": {},
     "output_type": "execute_result"
    }
   ],
   "source": [
    "X_train.shape"
   ]
  },
  {
   "cell_type": "code",
   "execution_count": 29,
   "metadata": {},
   "outputs": [
    {
     "data": {
      "text/plain": [
       "(111,)"
      ]
     },
     "execution_count": 29,
     "metadata": {},
     "output_type": "execute_result"
    }
   ],
   "source": [
    "Y_train.shape"
   ]
  },
  {
   "cell_type": "code",
   "execution_count": 30,
   "metadata": {},
   "outputs": [],
   "source": [
    "# In order(samples,timesteps,features)\n",
    "X_train = np.reshape(X_train, (X_train.shape[0], 1,X_train.shape[1]))"
   ]
  },
  {
   "cell_type": "code",
   "execution_count": 31,
   "metadata": {},
   "outputs": [],
   "source": [
    "X_test  = np.reshape(X_test, (X_test.shape[0],1,X_test.shape[1] ))"
   ]
  },
  {
   "cell_type": "code",
   "execution_count": 32,
   "metadata": {},
   "outputs": [
    {
     "name": "stdout",
     "output_type": "stream",
     "text": [
      "X_train : \n",
      "\n",
      "[[[0.01544402 0.02702703 0.05405405]]\n",
      "\n",
      " [[0.02702703 0.05405405 0.04826255]]]\n",
      "\n",
      "\n",
      "Y_train : \n",
      "\n",
      "[0.04826255 0.03281853]\n"
     ]
    }
   ],
   "source": [
    "# Print the data\n",
    "print(\"X_train : \\n\")\n",
    "print(X_train[:2])\n",
    "\n",
    "print(\"\\n\\nY_train : \\n\")\n",
    "print(Y_train[:2])"
   ]
  },
  {
   "cell_type": "code",
   "execution_count": 33,
   "metadata": {},
   "outputs": [
    {
     "name": "stdout",
     "output_type": "stream",
     "text": [
      "X_train :  (111, 1, 3)\n",
      "Y_train :  (111,)\n",
      "\n",
      "X_test :  (25, 1, 3)\n",
      "Y_test :  (25,)\n"
     ]
    }
   ],
   "source": [
    "# Check the shapes of the data for modeling\n",
    "print(\"X_train : \", X_train.shape)\n",
    "print(\"Y_train : \", Y_train.shape)\n",
    "print(\"\\nX_test : \", X_test.shape)\n",
    "print(\"Y_test : \", Y_test.shape)"
   ]
  },
  {
   "cell_type": "markdown",
   "metadata": {},
   "source": [
    "# Building the Lstm Model"
   ]
  },
  {
   "cell_type": "markdown",
   "metadata": {},
   "source": [
    "# Using Keras tuner for hypertuning"
   ]
  },
  {
   "cell_type": "code",
   "execution_count": 34,
   "metadata": {},
   "outputs": [],
   "source": [
    "# Function for hypertuning\n",
    "def build_knn(hp):\n",
    "    models=Sequential([\n",
    "    LSTM(units=hp.Int('units',min_value=4,max_value=100,step=1),\n",
    "         input_shape=( X_train.shape[1], X_train.shape[2]\n",
    "                      )),\n",
    "    Dropout(0.25),\n",
    "    Dense(1),\n",
    "    ])\n",
    "    models.compile(optimizer='adam', loss='mean_squared_error')\n",
    "    return models"
   ]
  },
  {
   "cell_type": "code",
   "execution_count": 35,
   "metadata": {},
   "outputs": [
    {
     "name": "stdout",
     "output_type": "stream",
     "text": [
      "INFO:tensorflow:Reloading Oracle from existing project cnn\\lstm6\\oracle.json\n",
      "INFO:tensorflow:Reloading Tuner from cnn\\lstm6\\tuner0.json\n"
     ]
    }
   ],
   "source": [
    "# Using 5 trials and val_acc as the criteria\n",
    "tuner_search=RandomSearch(build_knn,objective='val_loss',max_trials=5,directory='cnn',project_name='lstm6')"
   ]
  },
  {
   "cell_type": "code",
   "execution_count": 36,
   "metadata": {},
   "outputs": [
    {
     "name": "stdout",
     "output_type": "stream",
     "text": [
      "INFO:tensorflow:Oracle triggered exit\n"
     ]
    }
   ],
   "source": [
    "tuner_search.search(X_train,Y_train,epochs=3,validation_split=0.1,verbose=2)"
   ]
  },
  {
   "cell_type": "code",
   "execution_count": 37,
   "metadata": {},
   "outputs": [],
   "source": [
    "# Getting the best parameter model\n",
    "model=tuner_search.get_best_models(num_models=1)[0]"
   ]
  },
  {
   "cell_type": "code",
   "execution_count": 38,
   "metadata": {},
   "outputs": [
    {
     "name": "stdout",
     "output_type": "stream",
     "text": [
      "Model: \"sequential\"\n",
      "_________________________________________________________________\n",
      "Layer (type)                 Output Shape              Param #   \n",
      "=================================================================\n",
      "lstm (LSTM)                  (None, 80)                26880     \n",
      "_________________________________________________________________\n",
      "dropout (Dropout)            (None, 80)                0         \n",
      "_________________________________________________________________\n",
      "dense (Dense)                (None, 1)                 81        \n",
      "=================================================================\n",
      "Total params: 26,961\n",
      "Trainable params: 26,961\n",
      "Non-trainable params: 0\n",
      "_________________________________________________________________\n"
     ]
    }
   ],
   "source": [
    "model.summary()"
   ]
  },
  {
   "cell_type": "code",
   "execution_count": 39,
   "metadata": {},
   "outputs": [
    {
     "name": "stdout",
     "output_type": "stream",
     "text": [
      "Train on 111 samples, validate on 25 samples\n",
      "Epoch 1/100\n",
      "111/111 - 8s - loss: 0.0057 - val_loss: 0.0183\n",
      "Epoch 2/100\n",
      "111/111 - 1s - loss: 0.0098 - val_loss: 0.0179\n",
      "Epoch 3/100\n",
      "111/111 - 1s - loss: 0.0074 - val_loss: 0.0203\n",
      "Epoch 4/100\n",
      "111/111 - 1s - loss: 0.0060 - val_loss: 0.0194\n",
      "Epoch 5/100\n",
      "111/111 - 1s - loss: 0.0056 - val_loss: 0.0168\n",
      "Epoch 6/100\n",
      "111/111 - 1s - loss: 0.0062 - val_loss: 0.0164\n",
      "Epoch 7/100\n",
      "111/111 - 1s - loss: 0.0050 - val_loss: 0.0162\n",
      "Epoch 8/100\n",
      "111/111 - 1s - loss: 0.0045 - val_loss: 0.0160\n",
      "Epoch 9/100\n",
      "111/111 - 1s - loss: 0.0044 - val_loss: 0.0146\n",
      "Epoch 10/100\n",
      "111/111 - 1s - loss: 0.0053 - val_loss: 0.0159\n",
      "Epoch 11/100\n",
      "111/111 - 1s - loss: 0.0046 - val_loss: 0.0134\n",
      "Epoch 12/100\n",
      "111/111 - 1s - loss: 0.0049 - val_loss: 0.0149\n",
      "Epoch 13/100\n",
      "111/111 - 1s - loss: 0.0041 - val_loss: 0.0124\n",
      "Epoch 14/100\n",
      "111/111 - 1s - loss: 0.0047 - val_loss: 0.0121\n",
      "Epoch 15/100\n",
      "111/111 - 1s - loss: 0.0041 - val_loss: 0.0113\n",
      "Epoch 16/100\n",
      "111/111 - 1s - loss: 0.0041 - val_loss: 0.0111\n",
      "Epoch 17/100\n",
      "111/111 - 1s - loss: 0.0045 - val_loss: 0.0116\n",
      "Epoch 18/100\n",
      "111/111 - 1s - loss: 0.0042 - val_loss: 0.0112\n",
      "Epoch 19/100\n",
      "111/111 - 1s - loss: 0.0041 - val_loss: 0.0106\n",
      "Epoch 20/100\n",
      "111/111 - 1s - loss: 0.0039 - val_loss: 0.0108\n",
      "Epoch 21/100\n",
      "111/111 - 1s - loss: 0.0039 - val_loss: 0.0109\n",
      "Epoch 22/100\n",
      "111/111 - 1s - loss: 0.0029 - val_loss: 0.0095\n",
      "Epoch 23/100\n",
      "111/111 - 1s - loss: 0.0040 - val_loss: 0.0092\n",
      "Epoch 24/100\n",
      "111/111 - 1s - loss: 0.0040 - val_loss: 0.0106\n",
      "Epoch 25/100\n",
      "111/111 - 1s - loss: 0.0032 - val_loss: 0.0092\n",
      "Epoch 26/100\n",
      "111/111 - 1s - loss: 0.0037 - val_loss: 0.0092\n",
      "Epoch 27/100\n",
      "111/111 - 1s - loss: 0.0032 - val_loss: 0.0086\n",
      "Epoch 28/100\n",
      "111/111 - 1s - loss: 0.0035 - val_loss: 0.0109\n",
      "Epoch 29/100\n",
      "111/111 - 1s - loss: 0.0034 - val_loss: 0.0082\n",
      "Epoch 30/100\n",
      "111/111 - 1s - loss: 0.0034 - val_loss: 0.0101\n",
      "Epoch 31/100\n",
      "111/111 - 1s - loss: 0.0034 - val_loss: 0.0107\n",
      "Epoch 32/100\n",
      "111/111 - 1s - loss: 0.0032 - val_loss: 0.0084\n",
      "Epoch 33/100\n",
      "111/111 - 1s - loss: 0.0034 - val_loss: 0.0100\n",
      "Epoch 34/100\n",
      "111/111 - 1s - loss: 0.0034 - val_loss: 0.0088\n",
      "Epoch 35/100\n",
      "111/111 - 1s - loss: 0.0033 - val_loss: 0.0086\n",
      "Epoch 36/100\n",
      "111/111 - 1s - loss: 0.0036 - val_loss: 0.0092\n",
      "Epoch 37/100\n",
      "111/111 - 1s - loss: 0.0029 - val_loss: 0.0085\n",
      "Epoch 38/100\n",
      "111/111 - 1s - loss: 0.0033 - val_loss: 0.0098\n",
      "Epoch 39/100\n",
      "111/111 - 1s - loss: 0.0028 - val_loss: 0.0083\n",
      "Epoch 40/100\n",
      "111/111 - 1s - loss: 0.0034 - val_loss: 0.0085\n",
      "Epoch 41/100\n",
      "111/111 - 1s - loss: 0.0032 - val_loss: 0.0089\n",
      "Epoch 42/100\n",
      "111/111 - 1s - loss: 0.0027 - val_loss: 0.0069\n",
      "Epoch 43/100\n",
      "111/111 - 1s - loss: 0.0030 - val_loss: 0.0075\n",
      "Epoch 44/100\n",
      "111/111 - 1s - loss: 0.0033 - val_loss: 0.0074\n",
      "Epoch 45/100\n",
      "111/111 - 1s - loss: 0.0032 - val_loss: 0.0118\n",
      "Epoch 46/100\n",
      "111/111 - 1s - loss: 0.0028 - val_loss: 0.0106\n",
      "Epoch 47/100\n",
      "111/111 - 1s - loss: 0.0029 - val_loss: 0.0079\n",
      "Epoch 48/100\n",
      "111/111 - 1s - loss: 0.0028 - val_loss: 0.0098\n",
      "Epoch 49/100\n",
      "111/111 - 1s - loss: 0.0031 - val_loss: 0.0090\n",
      "Epoch 50/100\n",
      "111/111 - 1s - loss: 0.0028 - val_loss: 0.0096\n",
      "Epoch 51/100\n",
      "111/111 - 1s - loss: 0.0028 - val_loss: 0.0073\n",
      "Epoch 52/100\n",
      "111/111 - 1s - loss: 0.0027 - val_loss: 0.0070\n",
      "Epoch 53/100\n",
      "111/111 - 1s - loss: 0.0026 - val_loss: 0.0085\n",
      "Epoch 54/100\n",
      "111/111 - 1s - loss: 0.0032 - val_loss: 0.0078\n",
      "Epoch 55/100\n",
      "111/111 - 1s - loss: 0.0026 - val_loss: 0.0077\n",
      "Epoch 56/100\n",
      "111/111 - 1s - loss: 0.0029 - val_loss: 0.0084\n",
      "Epoch 57/100\n",
      "111/111 - 1s - loss: 0.0028 - val_loss: 0.0088\n",
      "Epoch 58/100\n",
      "111/111 - 1s - loss: 0.0027 - val_loss: 0.0079\n",
      "Epoch 59/100\n",
      "111/111 - 1s - loss: 0.0029 - val_loss: 0.0101\n",
      "Epoch 60/100\n",
      "111/111 - 1s - loss: 0.0026 - val_loss: 0.0065\n",
      "Epoch 61/100\n",
      "111/111 - 1s - loss: 0.0034 - val_loss: 0.0096\n",
      "Epoch 62/100\n",
      "111/111 - 1s - loss: 0.0026 - val_loss: 0.0086\n",
      "Epoch 63/100\n",
      "111/111 - 1s - loss: 0.0029 - val_loss: 0.0069\n",
      "Epoch 64/100\n",
      "111/111 - 1s - loss: 0.0031 - val_loss: 0.0088\n",
      "Epoch 65/100\n",
      "111/111 - 1s - loss: 0.0030 - val_loss: 0.0072\n",
      "Epoch 66/100\n",
      "111/111 - 1s - loss: 0.0024 - val_loss: 0.0074\n",
      "Epoch 67/100\n",
      "111/111 - 1s - loss: 0.0028 - val_loss: 0.0071\n",
      "Epoch 68/100\n",
      "111/111 - 1s - loss: 0.0026 - val_loss: 0.0072\n",
      "Epoch 69/100\n",
      "111/111 - 1s - loss: 0.0033 - val_loss: 0.0088\n",
      "Epoch 70/100\n",
      "111/111 - 1s - loss: 0.0028 - val_loss: 0.0113\n",
      "Epoch 71/100\n",
      "111/111 - 1s - loss: 0.0026 - val_loss: 0.0115\n",
      "Epoch 72/100\n",
      "111/111 - 1s - loss: 0.0024 - val_loss: 0.0065\n",
      "Epoch 73/100\n",
      "111/111 - 1s - loss: 0.0027 - val_loss: 0.0076\n",
      "Epoch 74/100\n",
      "111/111 - 1s - loss: 0.0029 - val_loss: 0.0092\n",
      "Epoch 75/100\n",
      "111/111 - 1s - loss: 0.0026 - val_loss: 0.0097\n",
      "Epoch 76/100\n",
      "111/111 - 1s - loss: 0.0025 - val_loss: 0.0105\n",
      "Epoch 77/100\n",
      "111/111 - 1s - loss: 0.0027 - val_loss: 0.0072\n",
      "Epoch 78/100\n",
      "111/111 - 1s - loss: 0.0033 - val_loss: 0.0129\n",
      "Epoch 79/100\n",
      "111/111 - 1s - loss: 0.0029 - val_loss: 0.0083\n",
      "Epoch 80/100\n",
      "111/111 - 1s - loss: 0.0024 - val_loss: 0.0089\n",
      "Epoch 81/100\n",
      "111/111 - 1s - loss: 0.0029 - val_loss: 0.0076\n",
      "Epoch 82/100\n",
      "111/111 - 1s - loss: 0.0026 - val_loss: 0.0076\n",
      "Epoch 83/100\n",
      "111/111 - 1s - loss: 0.0027 - val_loss: 0.0090\n",
      "Epoch 84/100\n",
      "111/111 - 1s - loss: 0.0027 - val_loss: 0.0069\n",
      "Epoch 85/100\n",
      "111/111 - 1s - loss: 0.0027 - val_loss: 0.0071\n",
      "Epoch 86/100\n",
      "111/111 - 1s - loss: 0.0024 - val_loss: 0.0089\n",
      "Epoch 87/100\n",
      "111/111 - 1s - loss: 0.0030 - val_loss: 0.0115\n",
      "Epoch 88/100\n",
      "111/111 - 1s - loss: 0.0024 - val_loss: 0.0076\n",
      "Epoch 89/100\n",
      "111/111 - 1s - loss: 0.0030 - val_loss: 0.0073\n",
      "Epoch 90/100\n",
      "111/111 - 1s - loss: 0.0025 - val_loss: 0.0077\n",
      "Epoch 91/100\n",
      "111/111 - 1s - loss: 0.0028 - val_loss: 0.0084\n",
      "Epoch 92/100\n",
      "111/111 - 1s - loss: 0.0026 - val_loss: 0.0065\n",
      "Epoch 93/100\n",
      "111/111 - 1s - loss: 0.0030 - val_loss: 0.0081\n",
      "Epoch 94/100\n",
      "111/111 - 1s - loss: 0.0030 - val_loss: 0.0073\n",
      "Epoch 95/100\n",
      "111/111 - 1s - loss: 0.0026 - val_loss: 0.0116\n",
      "Epoch 96/100\n",
      "111/111 - 1s - loss: 0.0030 - val_loss: 0.0082\n",
      "Epoch 97/100\n",
      "111/111 - 1s - loss: 0.0027 - val_loss: 0.0098\n",
      "Epoch 98/100\n",
      "111/111 - 1s - loss: 0.0023 - val_loss: 0.0110\n",
      "Epoch 99/100\n",
      "111/111 - 1s - loss: 0.0029 - val_loss: 0.0111\n",
      "Epoch 100/100\n",
      "111/111 - 1s - loss: 0.0030 - val_loss: 0.0074\n"
     ]
    },
    {
     "data": {
      "text/plain": [
       "<tensorflow.python.keras.callbacks.History at 0x17578874648>"
      ]
     },
     "execution_count": 39,
     "metadata": {},
     "output_type": "execute_result"
    }
   ],
   "source": [
    "# Training the model with 100 epochs\n",
    "model.fit(X_train,Y_train,batch_size=1,epochs=100,validation_data=(X_test, Y_test),verbose=2,shuffle=False)"
   ]
  },
  {
   "cell_type": "markdown",
   "metadata": {},
   "source": [
    "# Make the predictions and covert back into original scale"
   ]
  },
  {
   "cell_type": "code",
   "execution_count": 40,
   "metadata": {},
   "outputs": [],
   "source": [
    "# Make the predictions\n",
    "train_predict = model.predict(X_train)\n",
    "test_predict  = model.predict(X_test)\n",
    "\n",
    "# Invert the predictions to original scale\n",
    "train_predict = scaler.inverse_transform(train_predict)\n",
    "Y_train = scaler.inverse_transform([Y_train])\n",
    "\n",
    "test_predict  = scaler.inverse_transform(test_predict)\n",
    "Y_test = scaler.inverse_transform([Y_test])\n"
   ]
  },
  {
   "cell_type": "markdown",
   "metadata": {},
   "source": [
    "# Evaluation metrics"
   ]
  },
  {
   "cell_type": "code",
   "execution_count": 41,
   "metadata": {},
   "outputs": [
    {
     "name": "stdout",
     "output_type": "stream",
     "text": [
      "Train MAE :  845.8537698294857\n",
      "Test MAE :  1985.5919381671772\n"
     ]
    }
   ],
   "source": [
    "# MAE\n",
    "print (\"Train MAE : \", mean_squared_error(Y_train[0], train_predict[:,0]))\n",
    "print (\"Test MAE : \", mean_squared_error(Y_test[0], test_predict[:,0]))\n",
    "\n"
   ]
  },
  {
   "cell_type": "code",
   "execution_count": 42,
   "metadata": {},
   "outputs": [
    {
     "name": "stdout",
     "output_type": "stream",
     "text": [
      "Train RMSE :  29.083565287452046\n",
      "Test RMSE :  44.559981352859396\n"
     ]
    }
   ],
   "source": [
    "# RMSE\n",
    "print (\"Train RMSE : \", np.sqrt(mean_squared_error(Y_train[0], train_predict[:,0])))\n",
    "print (\"Test RMSE : \", np.sqrt(mean_squared_error(Y_test[0], test_predict[:,0])))\n"
   ]
  },
  {
   "cell_type": "code",
   "execution_count": 43,
   "metadata": {},
   "outputs": [
    {
     "name": "stdout",
     "output_type": "stream",
     "text": [
      "\n",
      "Train MAPE :  0.10807149248417125\n",
      "Test MAPE :  0.07967733702584684\n"
     ]
    }
   ],
   "source": [
    "# MAPE\n",
    "Mape_train =np.mean(np.abs(Y_train[0] - train_predict[:,0])/Y_train[0])\n",
    "Mape_test =np.mean(np.abs(Y_test[0] - test_predict[:,0])/Y_test[0])\n",
    "\n",
    "print (\"\\nTrain MAPE : \", Mape_train)\n",
    "print (\"Test MAPE : \", Mape_test)"
   ]
  },
  {
   "cell_type": "markdown",
   "metadata": {},
   "source": [
    "# Plotting for train and test"
   ]
  },
  {
   "cell_type": "code",
   "execution_count": 66,
   "metadata": {},
   "outputs": [
    {
     "data": {
      "image/png": "[encoded data removed]",
      "text/plain": [
       "<Figure size 432x288 with 1 Axes>"
      ]
     },
     "metadata": {
      "needs_background": "light"
     },
     "output_type": "display_data"
    }
   ],
   "source": [
    "### Plotting \n",
    "# shift train predictions for plotting\n",
    "look_back=3\n",
    "trainPredictPlot = np.empty_like(vals)\n",
    "trainPredictPlot[:, :] = np.nan\n",
    "trainPredictPlot[look_back:len(train_predict)+look_back, :] = train_predict\n",
    "# shift test predictions for plotting\n",
    "testPredictPlot = np.empty_like(vals)\n",
    "testPredictPlot[:, :] = np.nan\n",
    "testPredictPlot[len(train_predict)+(look_back*2)+1:len(vals)-1, :] = test_predict\n",
    "# plot baseline and predictions\n",
    "plt.plot(scaler.inverse_transform(vals))\n",
    "plt.plot(trainPredictPlot)\n",
    "plt.plot(testPredictPlot)\n",
    "plt.show()"
   ]
  },
  {
   "cell_type": "markdown",
   "metadata": {},
   "source": [
    "# Predicting for next 12 months"
   ]
  },
  {
   "cell_type": "code",
   "execution_count": 67,
   "metadata": {},
   "outputs": [
    {
     "name": "stdout",
     "output_type": "stream",
     "text": [
      "[[435.5694]]\n",
      "[[427.40765]]\n",
      "[[415.19345]]\n",
      "[[405.374]]\n",
      "[[400.10416]]\n",
      "[[398.7297]]\n",
      "[[399.58762]]\n",
      "[[401.19235]]\n",
      "[[402.63675]]\n",
      "[[403.55646]]\n",
      "[[403.94565]]\n",
      "[[403.96683]]\n"
     ]
    }
   ],
   "source": [
    "y = []\n",
    "for i in range(0,12):\n",
    "    X1 = test[len(test)-3+i:,0]\n",
    "    X1 = np.append(X1, y[-3:])\n",
    "    X1 = X1.reshape(1,1,3)\n",
    "    y1 = model.predict(X1)\n",
    "    y.append(y1)\n",
    "    print(scaler.inverse_transform(y1))"
   ]
  },
  {
   "cell_type": "code",
   "execution_count": null,
   "metadata": {},
   "outputs": [],
   "source": [
    "\n",
    "\n",
    "    "
   ]
  },
  {
   "cell_type": "code",
   "execution_count": null,
   "metadata": {},
   "outputs": [],
   "source": []
  }
 ],
 "metadata": {
  "kernelspec": {
   "display_name": "Python 3",
   "language": "python",
   "name": "python3"
  },
  "language_info": {
   "codemirror_mode": {
    "name": "ipython",
    "version": 3
   },
   "file_extension": ".py",
   "mimetype": "text/x-python",
   "name": "python",
   "nbconvert_exporter": "python",
   "pygments_lexer": "ipython3",
   "version": "3.7.9"
  }
 },
 "nbformat": 4,
 "nbformat_minor": 4
}
